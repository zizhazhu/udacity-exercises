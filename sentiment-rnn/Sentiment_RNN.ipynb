{
 "cells": [
  {
   "cell_type": "markdown",
   "metadata": {},
   "source": [
    "# Sentiment Analysis with an RNN\n",
    "\n",
    "In this notebook, you'll implement a recurrent neural network that performs sentiment analysis. Using an RNN rather than a feedfoward network is more accurate since we can include information about the *sequence* of words. Here we'll use a dataset of movie reviews, accompanied by labels.\n",
    "\n",
    "The architecture for this network is shown below.\n",
    "\n",
    "<img src=\"assets/network_diagram.png\" width=400px>\n",
    "\n",
    "Here, we'll pass in words to an embedding layer. We need an embedding layer because we have tens of thousands of words, so we'll need a more efficient representation for our input data than one-hot encoded vectors. You should have seen this before from the word2vec lesson. You can actually train up an embedding with word2vec and use it here. But it's good enough to just have an embedding layer and let the network learn the embedding table on it's own.\n",
    "\n",
    "From the embedding layer, the new representations will be passed to LSTM cells. These will add recurrent connections to the network so we can include information about the sequence of words in the data. Finally, the LSTM cells will go to a sigmoid output layer here. We're using the sigmoid because we're trying to predict if this text has positive or negative sentiment. The output layer will just be a single unit then, with a sigmoid activation function.\n",
    "\n",
    "We don't care about the sigmoid outputs except for the very last one, we can ignore the rest. We'll calculate the cost from the output of the last step and the training label."
   ]
  },
  {
   "cell_type": "code",
   "execution_count": 1,
   "metadata": {
    "collapsed": true
   },
   "outputs": [],
   "source": [
    "import numpy as np\n",
    "import tensorflow as tf"
   ]
  },
  {
   "cell_type": "code",
   "execution_count": 20,
   "metadata": {},
   "outputs": [],
   "source": [
    "with open('data/reviews.txt', 'r') as f:\n",
    "    reviews = f.read()\n",
    "with open('data/labels.txt', 'r') as f:\n",
    "    labels = f.read()"
   ]
  },
  {
   "cell_type": "code",
   "execution_count": 4,
   "metadata": {},
   "outputs": [
    {
     "data": {
      "text/plain": [
       "'bromwell high is a cartoon comedy . it ran at the same time as some other programs about school life  such as  teachers  . my   years in the teaching profession lead me to believe that bromwell high  s satire is much closer to reality than is  teachers  . the scramble to survive financially  the insightful students who can see right through their pathetic teachers  pomp  the pettiness of the whole situation  all remind me of the schools i knew and their students . when i saw the episode in which a student repeatedly tried to burn down the school  i immediately recalled . . . . . . . . . at . . . . . . . . . . high . a classic line inspector i  m here to sack one of your teachers . student welcome to bromwell high . i expect that many adults of my age think that bromwell high is far fetched . what a pity that it isn  t   \\nstory of a man who has unnatural feelings for a pig . starts out with a opening scene that is a terrific example of absurd comedy . a formal orchestra audience is turned into an insane  violent mob by the crazy chantings of it  s singers . unfortunately it stays absurd the whole time with no general narrative eventually making it just too off putting . even those from the era should be turned off . the cryptic dialogue would make shakespeare seem easy to a third grader . on a technical level it  s better than you might think with some good cinematography by future great vilmos zsigmond . future stars sally kirkland and frederic forrest can be seen briefly .  \\nhomelessness  or houselessness as george carlin stated  has been an issue for years but never a plan to help those on the street that were once considered human who did everything from going to school  work  or vote for the matter . most people think of the homeless as just a lost cause while worrying about things such as racism  the war on iraq  pressuring kids to succeed  technology  the elections  inflation  or worrying if they  ll be next to end up on the streets .  br    br   but what if y'"
      ]
     },
     "execution_count": 4,
     "metadata": {},
     "output_type": "execute_result"
    }
   ],
   "source": [
    "reviews[:2000]"
   ]
  },
  {
   "cell_type": "code",
   "execution_count": 9,
   "metadata": {},
   "outputs": [
    {
     "data": {
      "text/plain": [
       "'positive\\nnegative\\npositive\\nnegative\\npositive\\nnegative\\npositive\\nnegative\\npositive\\nnegative\\npositive\\nnegative\\npositive\\nnegative\\npositive\\nnegative\\npositive\\nnegative\\npositive\\nnegative\\npositive\\nnegative\\npositive\\nnegative\\npositive\\nnegative\\npositive\\nnegative\\npositive\\nnegative\\npositive\\nnegative\\npositive\\nnegative\\npositive\\nnegative\\npositive\\nnegative\\npositive\\nnegative\\npositive\\nnegative\\npositive\\nnegative\\npositive\\nnegative\\npositive\\nnegative\\npositive\\nnegative\\npositive\\nnegative\\npositive\\nnegative\\npositive\\nnegative\\npositive\\nnegative\\npositive\\nnegative\\npositive\\nnegative\\npositive\\nnegative\\npositive\\nnegative\\npositive\\nnegative\\npositive\\nnegative\\npositive\\nnegative\\npositive\\nnegative\\npositive\\nnegative\\npositive\\nnegative\\npositive\\nnegative\\npositive\\nnegative\\npositive\\nnegative\\npositive\\nnegative\\npositive\\nnegative\\npositive\\nnegative\\npositive\\nnegative\\npositive\\nnegative\\npositive\\nnegative\\npositive\\nnegative\\npositive\\nnegative\\npositive\\nnegative\\npositive\\nnegative\\npositive\\nnegative\\npositive\\nnegative\\npositive\\nnegative\\npositive\\nnegative\\npositive\\nnegative\\npositive\\nnegative\\npositive\\nnegative\\npositive\\nnegative\\npositive\\nnegative\\npositive\\nnegative\\npositive\\nnegative\\npositive\\nnegative\\npositive\\nnegative\\npositive\\nnegative\\npositive\\nnegative\\npositive\\nnegative\\npositive\\nnegative\\npositive\\nnegative\\npositive\\nnegative\\npositive\\nnegative\\npositive\\nnegative\\npositive\\nnegative\\npositive\\nnegative\\npositive\\nnegative\\npositive\\nnegative\\npositive\\nnegative\\npositive\\nnegative\\npositive\\nnegative\\npositive\\nnegative\\npositive\\nnegative\\npositive\\nnegative\\npositive\\nnegative\\npositive\\nnegative\\npositive\\nnegative\\npositive\\nnegative\\npositive\\nnegative\\npositive\\nnegative\\npositive\\nnegative\\npositive\\nnegative\\npositive\\nnegative\\npositive\\nnegative\\npositive\\nnegative\\npositive\\nnegative\\npositive\\nnegative\\npositive\\nnegative\\npositive\\nnegative\\npositive\\nnegative\\npositive\\nnegative\\npositive\\nnegative\\npositive\\nnegative\\npositive\\nnegative\\npositive\\nnegative\\npositive\\nnegative\\npositive\\nnegative\\npositive\\nnegative\\npositive\\nnegative\\npositive\\nnegative\\npositive\\nnegative\\npositive\\nnegative\\npo'"
      ]
     },
     "execution_count": 9,
     "metadata": {},
     "output_type": "execute_result"
    }
   ],
   "source": [
    "labels[:2000]"
   ]
  },
  {
   "cell_type": "markdown",
   "metadata": {},
   "source": [
    "## Data preprocessing\n",
    "\n",
    "The first step when building a neural network model is getting your data into the proper form to feed into the network. Since we're using embedding layers, we'll need to encode each word with an integer. We'll also want to clean it up a bit.\n",
    "\n",
    "You can see an example of the reviews data above. We'll want to get rid of those periods. Also, you might notice that the reviews are delimited with newlines `\\n`. To deal with those, I'm going to split the text into each review using `\\n` as the delimiter. Then I can combined all the reviews back together into one big string.\n",
    "\n",
    "First, let's remove all punctuation. Then get all the text without the newlines and split it into individual words."
   ]
  },
  {
   "cell_type": "code",
   "execution_count": 5,
   "metadata": {
    "collapsed": true
   },
   "outputs": [],
   "source": [
    "from string import punctuation\n",
    "all_text = ''.join([c for c in reviews if c not in punctuation])\n",
    "reviews = all_text.split('\\n')\n",
    "\n",
    "all_text = ' '.join(reviews)\n",
    "words = all_text.split()"
   ]
  },
  {
   "cell_type": "code",
   "execution_count": 6,
   "metadata": {},
   "outputs": [
    {
     "data": {
      "text/plain": [
       "'bromwell high is a cartoon comedy  it ran at the same time as some other programs about school life  such as  teachers   my   years in the teaching profession lead me to believe that bromwell high  s satire is much closer to reality than is  teachers   the scramble to survive financially  the insightful students who can see right through their pathetic teachers  pomp  the pettiness of the whole situation  all remind me of the schools i knew and their students  when i saw the episode in which a student repeatedly tried to burn down the school  i immediately recalled          at           high  a classic line inspector i  m here to sack one of your teachers  student welcome to bromwell high  i expect that many adults of my age think that bromwell high is far fetched  what a pity that it isn  t    story of a man who has unnatural feelings for a pig  starts out with a opening scene that is a terrific example of absurd comedy  a formal orchestra audience is turned into an insane  violent mob by the crazy chantings of it  s singers  unfortunately it stays absurd the whole time with no general narrative eventually making it just too off putting  even those from the era should be turned off  the cryptic dialogue would make shakespeare seem easy to a third grader  on a technical level it  s better than you might think with some good cinematography by future great vilmos zsigmond  future stars sally kirkland and frederic forrest can be seen briefly    homelessness  or houselessness as george carlin stated  has been an issue for years but never a plan to help those on the street that were once considered human who did everything from going to school  work  or vote for the matter  most people think of the homeless as just a lost cause while worrying about things such as racism  the war on iraq  pressuring kids to succeed  technology  the elections  inflation  or worrying if they  ll be next to end up on the streets   br    br   but what if you were given a bet to live on the st'"
      ]
     },
     "execution_count": 6,
     "metadata": {},
     "output_type": "execute_result"
    }
   ],
   "source": [
    "all_text[:2000]"
   ]
  },
  {
   "cell_type": "code",
   "execution_count": 6,
   "metadata": {},
   "outputs": [
    {
     "data": {
      "text/plain": [
       "['bromwell',\n",
       " 'high',\n",
       " 'is',\n",
       " 'a',\n",
       " 'cartoon',\n",
       " 'comedy',\n",
       " 'it',\n",
       " 'ran',\n",
       " 'at',\n",
       " 'the',\n",
       " 'same',\n",
       " 'time',\n",
       " 'as',\n",
       " 'some',\n",
       " 'other',\n",
       " 'programs',\n",
       " 'about',\n",
       " 'school',\n",
       " 'life',\n",
       " 'such',\n",
       " 'as',\n",
       " 'teachers',\n",
       " 'my',\n",
       " 'years',\n",
       " 'in',\n",
       " 'the',\n",
       " 'teaching',\n",
       " 'profession',\n",
       " 'lead',\n",
       " 'me',\n",
       " 'to',\n",
       " 'believe',\n",
       " 'that',\n",
       " 'bromwell',\n",
       " 'high',\n",
       " 's',\n",
       " 'satire',\n",
       " 'is',\n",
       " 'much',\n",
       " 'closer',\n",
       " 'to',\n",
       " 'reality',\n",
       " 'than',\n",
       " 'is',\n",
       " 'teachers',\n",
       " 'the',\n",
       " 'scramble',\n",
       " 'to',\n",
       " 'survive',\n",
       " 'financially',\n",
       " 'the',\n",
       " 'insightful',\n",
       " 'students',\n",
       " 'who',\n",
       " 'can',\n",
       " 'see',\n",
       " 'right',\n",
       " 'through',\n",
       " 'their',\n",
       " 'pathetic',\n",
       " 'teachers',\n",
       " 'pomp',\n",
       " 'the',\n",
       " 'pettiness',\n",
       " 'of',\n",
       " 'the',\n",
       " 'whole',\n",
       " 'situation',\n",
       " 'all',\n",
       " 'remind',\n",
       " 'me',\n",
       " 'of',\n",
       " 'the',\n",
       " 'schools',\n",
       " 'i',\n",
       " 'knew',\n",
       " 'and',\n",
       " 'their',\n",
       " 'students',\n",
       " 'when',\n",
       " 'i',\n",
       " 'saw',\n",
       " 'the',\n",
       " 'episode',\n",
       " 'in',\n",
       " 'which',\n",
       " 'a',\n",
       " 'student',\n",
       " 'repeatedly',\n",
       " 'tried',\n",
       " 'to',\n",
       " 'burn',\n",
       " 'down',\n",
       " 'the',\n",
       " 'school',\n",
       " 'i',\n",
       " 'immediately',\n",
       " 'recalled',\n",
       " 'at',\n",
       " 'high']"
      ]
     },
     "execution_count": 6,
     "metadata": {},
     "output_type": "execute_result"
    }
   ],
   "source": [
    "words[:100]"
   ]
  },
  {
   "cell_type": "markdown",
   "metadata": {},
   "source": [
    "### Encoding the words\n",
    "\n",
    "The embedding lookup requires that we pass in integers to our network. The easiest way to do this is to create dictionaries that map the words in the vocabulary to integers. Then we can convert each of our reviews into integers so they can be passed into the network.\n",
    "\n",
    "> **Exercise:** Now you're going to encode the words with integers. Build a dictionary that maps words to integers. Later we're going to pad our input vectors with zeros, so make sure the integers **start at 1, not 0**.\n",
    "> Also, convert the reviews to integers and store the reviews in a new list called `reviews_ints`. "
   ]
  },
  {
   "cell_type": "code",
   "execution_count": 8,
   "metadata": {},
   "outputs": [],
   "source": [
    "# Create your dictionary that maps vocab words to integers here\n",
    "all_words = set(words)\n",
    "vocab_to_int = {word: i for i, word in enumerate(all_words, 1)}\n",
    "\n",
    "# Convert the reviews to integers, same shape as reviews list, but with integers\n",
    "reviews_ints = []\n",
    "for review in reviews:\n",
    "    reviews_ints.append([vocab_to_int[word] for word in review.split()])"
   ]
  },
  {
   "cell_type": "markdown",
   "metadata": {},
   "source": [
    "### Encoding the labels\n",
    "\n",
    "Our labels are \"positive\" or \"negative\". To use these labels in our network, we need to convert them to 0 and 1.\n",
    "\n",
    "> **Exercise:** Convert labels from `positive` and `negative` to 1 and 0, respectively."
   ]
  },
  {
   "cell_type": "code",
   "execution_count": 21,
   "metadata": {},
   "outputs": [],
   "source": [
    "# Convert labels to 1s and 0s for 'positive' and 'negative'\n",
    "labels = labels.split()\n",
    "labels = np.array([1 if x == 'positive' else 0 for x in labels])"
   ]
  },
  {
   "cell_type": "markdown",
   "metadata": {},
   "source": [
    "If you built `labels` correctly, you should see the next output."
   ]
  },
  {
   "cell_type": "code",
   "execution_count": 13,
   "metadata": {},
   "outputs": [
    {
     "name": "stdout",
     "output_type": "stream",
     "text": [
      "Zero-length reviews: 0\n",
      "Maximum review length: 2514\n"
     ]
    }
   ],
   "source": [
    "from collections import Counter\n",
    "review_lens = Counter([len(x) for x in reviews_ints])\n",
    "print(\"Zero-length reviews: {}\".format(review_lens[0]))\n",
    "print(\"Maximum review length: {}\".format(max(review_lens)))"
   ]
  },
  {
   "cell_type": "markdown",
   "metadata": {},
   "source": [
    "Okay, a couple issues here. We seem to have one review with zero length. And, the maximum review length is way too many steps for our RNN. Let's truncate to 200 steps. For reviews shorter than 200, we'll pad with 0s. For reviews longer than 200, we can truncate them to the first 200 characters.\n",
    "\n",
    "> **Exercise:** First, remove the review with zero length from the `reviews_ints` list."
   ]
  },
  {
   "cell_type": "code",
   "execution_count": 24,
   "metadata": {},
   "outputs": [],
   "source": [
    "# Filter out that review with 0 length\n",
    "non_zero_idx = [ii for ii, review in enumerate(reviews_ints) if len(review) != 0]\n",
    "reviews_ints = [reviews_ints[ii] for ii in non_zero_idx]\n",
    "labels = np.array([labels[ii] for ii in non_zero_idx])"
   ]
  },
  {
   "cell_type": "markdown",
   "metadata": {},
   "source": [
    "> **Exercise:** Now, create an array `features` that contains the data we'll pass to the network. The data should come from `review_ints`, since we want to feed integers to the network. Each row should be 200 elements long. For reviews shorter than 200 words, left pad with 0s. That is, if the review is `['best', 'movie', 'ever']`, `[117, 18, 128]` as integers, the row will look like `[0, 0, 0, ..., 0, 117, 18, 128]`. For reviews longer than 200, use on the first 200 words as the feature vector.\n",
    "\n",
    "This isn't trivial and there are a bunch of ways to do this. But, if you're going to be building your own deep learning networks, you're going to have to get used to preparing your data.\n",
    "\n"
   ]
  },
  {
   "cell_type": "code",
   "execution_count": 25,
   "metadata": {},
   "outputs": [],
   "source": [
    "seq_len = 200\n",
    "features = np.zeros((len(reviews_ints), seq_len), dtype=int)\n",
    "for i, row in enumerate(reviews_ints):\n",
    "    features[i, -len(row):] = np.array(row)[:seq_len]"
   ]
  },
  {
   "cell_type": "markdown",
   "metadata": {},
   "source": [
    "If you build features correctly, it should look like that cell output below."
   ]
  },
  {
   "cell_type": "code",
   "execution_count": 27,
   "metadata": {},
   "outputs": [
    {
     "data": {
      "text/plain": [
       "array([[    0,     0,     0,     0,     0,     0,     0,     0,     0,\n",
       "            0,     0,     0,     0,     0,     0,     0,     0,     0,\n",
       "            0,     0,     0,     0,     0,     0,     0,     0,     0,\n",
       "            0,     0,     0,     0,     0,     0,     0,     0,     0,\n",
       "            0,     0,     0,     0,     0,     0,     0,     0,     0,\n",
       "            0,     0,     0,     0,     0,     0,     0,     0,     0,\n",
       "            0,     0,     0,     0,     0,     0, 37232, 67299, 43283,\n",
       "        25722, 45748, 58511, 15377, 30915, 35134, 64083, 15630, 67318,\n",
       "         4774, 63210,  9645, 12280, 49680, 16003, 73636, 32280,  4774,\n",
       "        60668,  8940, 28459, 47293, 64083, 47113, 70475, 22093, 41805,\n",
       "        26684, 31851, 62184, 37232, 67299, 57947, 28232, 43283, 26850,\n",
       "        35839],\n",
       "       [    0,     0,     0,     0,     0,     0,     0,     0,     0,\n",
       "            0,     0,     0,     0,     0,     0,     0,     0,     0,\n",
       "            0,     0,     0,     0,     0,     0,     0,     0,     0,\n",
       "            0,     0,     0,     0,     0,     0,     0,     0,     0,\n",
       "            0,     0,     0,     0,     0,     0,     0,     0,     0,\n",
       "            0,     0,     0,     0,     0,     0,     0,     0,     0,\n",
       "            0,     0,     0,     0,     0,     0,     0,     0,     0,\n",
       "            0,     0,     0,     0,     0,     0,     0,     0,     0,\n",
       "            0,     0,     0,     0,     0,     0,     0,     0,     0,\n",
       "            0,     0,     0,     0,     0, 16773, 16438, 25722,  8716,\n",
       "        49847, 66052, 44916, 61336, 43594, 25722,  8635, 40255, 29208,\n",
       "        73814],\n",
       "       [24720, 49654, 36953,  4774, 25694, 27790, 12806, 66052, 69491,\n",
       "        66841, 59730, 43594, 28459, 32804, 29181, 25722, 46261, 26684,\n",
       "        72834, 66987, 68679, 64083, 55067, 62184, 72721,  2731, 20666,\n",
       "         7708, 49847, 28850, 56378, 52743, 73809, 26684, 16003, 54448,\n",
       "        49654, 36747, 43594, 64083, 56852, 73851, 66344, 17223, 16438,\n",
       "        64083, 51358,  4774, 34123, 25722,  3903, 50781,   615, 46185,\n",
       "        49680, 31567, 32280,  4774, 60649, 64083, 36065, 68679, 66554,\n",
       "        38185, 73251, 26684,  2958, 67421, 64083, 69370, 36550, 49654,\n",
       "        46185, 62698, 39063, 34278, 24998, 28419, 26684, 70138, 58717,\n",
       "        68679, 64083, 33839, 51557, 51557, 32804,  1865, 62698, 64970,\n",
       "        72721, 44560, 25722, 43416, 26684, 13938, 68679, 64083, 33839,\n",
       "        43594],\n",
       "       [13617, 40255,  4774, 25722, 29678, 33704, 11134,  8366, 43283,\n",
       "        54469, 58717, 73814, 45996, 27508, 32280, 62836, 26684, 21854,\n",
       "        26805, 57360, 67841, 36077, 69092, 49847, 43283, 47639, 27160,\n",
       "        25722, 30977, 16438, 61205, 57947, 26684,  2784, 45944, 47293,\n",
       "        26845, 16438, 15377, 12952, 61153, 26684, 64083,  9207,  4774,\n",
       "        25722, 20251, 32091, 68679, 50850, 43283, 67841,  2355, 42250,\n",
       "        70327, 65153, 11527, 22898, 64083, 11134,  6091, 22622, 73624,\n",
       "         4774, 23069, 32804, 34863, 48006, 64083,  8366, 43283, 27888,\n",
       "        21820, 45291, 64083, 73438, 13442, 41703, 72306, 58414,  2784,\n",
       "        66940, 55104, 57947, 13863, 17528, 57327, 46947, 39687, 27830,\n",
       "        49847, 56878, 64083, 29727, 61505, 29208, 73814, 38118, 24718,\n",
       "        39063],\n",
       "       [    0,     0,     0,     0,     0,     0,     0,     0,     0,\n",
       "            0,     0,     0,     0,     0,     0,     0,     0,     0,\n",
       "            0,     0,     0,     0,     0,     0,     0,     0,     0,\n",
       "            0,     0,     0,     0,     0,     0,     0,     0,     0,\n",
       "            0,     0,     0,     0,     0,     0,     0,     0,     0,\n",
       "            0,     0,     0,     0,     0, 12135,  6353,  8928, 45291,\n",
       "        55885,  9898, 17338,  4178, 70425,   852, 33549, 52330, 34434,\n",
       "        36892, 14891, 64152, 59480, 51478, 47293, 42511,  5579, 42900,\n",
       "        48862, 26684, 57970, 64083, 43495, 68679, 56489, 43283, 25722,\n",
       "         5651,  4774,  7297,  4774, 15200, 47293, 61931, 14995, 64083,\n",
       "        41451, 68679, 66227, 43283, 32091, 23922, 53466, 12952,  1200,\n",
       "        16438],\n",
       "       [    0,     0,     0,     0,     0,     0,     0,     0,     0,\n",
       "            0,     0,     0,     0,     0,     0,     0,     0,     0,\n",
       "            0,     0,     0,     0,     0,     0,     0,     0,     0,\n",
       "            0,     0,     0,     0,     0,     0,     0,     0,     0,\n",
       "            0,     0,     0,     0,     0,     0,     0,     0,     0,\n",
       "            0,     0,     0,     0,     0,     0,     0,     0,     0,\n",
       "         4653, 45226,  7839, 33198, 52330,   803, 68366,  5437,  8940,\n",
       "        60261, 68679, 35134, 29366, 60245, 68679, 64083,  3356, 16438,\n",
       "        64083, 50315, 21961,  4653, 30827, 25321, 26684,  1041, 16438,\n",
       "        10606, 62809, 11563, 58718, 64083,  9337, 73814, 11527, 50315,\n",
       "         8716,   416, 64083, 15563, 51478, 10826, 14406,  4774, 12952,\n",
       "        46153],\n",
       "       [    0,     0,     0,     0,     0,     0,     0,     0,     0,\n",
       "            0,     0,     0,     0,     0,     0,     0,     0,     0,\n",
       "            0,     0,     0,     0,     0,     0,     0,     0,     0,\n",
       "            0,     0,     0,     0,     0,     0,     0,     0,     0,\n",
       "            0,     0,     0,     0,     0,     0,     0,     0,     0,\n",
       "            0,     0,     0,     0,     0,     0,     0,     0,     0,\n",
       "            0,     0,     0,     0,     0,     0,     0,     0,     0,\n",
       "            0,     0,     0,     0,     0,     0,     0,     0,     0,\n",
       "            0,     0,     0,     0,  4653, 43283, 32900, 64083, 73851,\n",
       "        12310, 45226, 60563, 64083, 56611,   859, 29563, 20290, 40364,\n",
       "        15377, 27799, 43934, 48016, 25722, 12526, 65595, 16438, 24720,\n",
       "        34918],\n",
       "       [    0,     0,     0,     0,     0,     0,     0,     0,     0,\n",
       "            0,     0,     0,     0,     0,     0,     0,     0,     0,\n",
       "            0,     0,     0,     0,     0,     0,     0,     0,     0,\n",
       "            0,     0,     0,     0,     0,     0,     0,     0,     0,\n",
       "            0,     0,     0,     0,     0,     0,     0,     0,     0,\n",
       "            0,     0, 31189, 49277, 52330, 56695,  4653, 43283, 71520,\n",
       "        26684, 24998, 66841, 15113, 45226, 32804, 51892, 39063, 49018,\n",
       "        34434, 43046, 29208, 25062, 35134, 64083, 69715, 60681, 66344,\n",
       "        41871, 39090, 11438, 34677, 29208, 64152, 43934,  1040, 44344,\n",
       "        64083, 35205, 67535, 64152, 52387, 67880, 38277, 47416,  4653,\n",
       "        16773, 43283, 16246, 13525, 26684,  1040, 64083, 64694, 16438,\n",
       "        25722],\n",
       "       [    0,     0,     0,     0,     0,     0,     0,     0,     0,\n",
       "            0,     0,     0,     0,     0,     0,     0,     0,     0,\n",
       "            0,     0,     0,     0,     0,     0,     0,     0,     0,\n",
       "            0,     0,     0,     0,     0,     0,     0,     0,     0,\n",
       "            0,     0,     0,     0,     0,     0,     0,     0,     0,\n",
       "            0,     0,     0,     0,     0,     0,     0,     0,     0,\n",
       "            0,     0,     0,     0,     0,     0,     0,     0,     0,\n",
       "            0,     0,     0,     0,     0,     0,     0,     0,     0,\n",
       "            0,     0,     0,     0,     0,     0,     0,  4653, 43283,\n",
       "        43934, 64083, 60137, 42467, 56611, 45226, 15377, 38277, 26850,\n",
       "        16660, 33787, 36232, 73851, 16438,  2784, 25541, 64152, 48235,\n",
       "         1485],\n",
       "       [62809, 52330, 38277, 10229,  8940, 51255, 56484, 41805, 63170,\n",
       "        26684, 64083, 62735, 26684, 66370, 55701, 15377, 38277,  7239,\n",
       "        16438, 50842, 25541, 52330, 32273, 73814,  8940, 51255, 32804,\n",
       "         4653, 38277, 64083, 64388,  7239, 36292, 67168, 29208, 16438,\n",
       "        38595, 51471, 52330,  1485, 29181, 14891, 55701,  3014, 34123,\n",
       "        19155, 64152, 52330, 41871, 34434, 73721, 29208, 64083, 43328,\n",
       "        16438,  8940, 73636, 63340, 15377,  1865, 25722, 60341,  2648,\n",
       "        64152, 19347, 64425, 35829, 16438, 57947, 38427, 64152, 44352,\n",
       "        27111, 73005, 58992, 43283,  7239, 16438,  8940, 27171, 34027,\n",
       "        32804, 55701, 43283, 45291, 43585, 64083, 12204, 35829, 16438,\n",
       "        72505, 16438,  2784, 36595, 47293, 64083, 67006, 18327, 16438,\n",
       "        27848]])"
      ]
     },
     "execution_count": 27,
     "metadata": {},
     "output_type": "execute_result"
    }
   ],
   "source": [
    "features[:10, :100]"
   ]
  },
  {
   "cell_type": "code",
   "execution_count": 28,
   "metadata": {},
   "outputs": [
    {
     "name": "stdout",
     "output_type": "stream",
     "text": [
      "Minimum review length: 200\n",
      "Maximum review length: 200\n"
     ]
    }
   ],
   "source": [
    "from collections import Counter\n",
    "features_lens = Counter([len(x) for x in features])\n",
    "print(\"Minimum review length: {}\".format(min(features_lens)))\n",
    "print(\"Maximum review length: {}\".format(max(features_lens)))"
   ]
  },
  {
   "cell_type": "markdown",
   "metadata": {},
   "source": [
    "## Training, Validation, Test\n",
    "\n"
   ]
  },
  {
   "cell_type": "markdown",
   "metadata": {},
   "source": [
    "With our data in nice shape, we'll split it into training, validation, and test sets.\n",
    "\n",
    "> **Exercise:** Create the training, validation, and test sets here. You'll need to create sets for the features and the labels, `train_x` and `train_y` for example. Define a split fraction, `split_frac` as the fraction of data to keep in the training set. Usually this is set to 0.8 or 0.9. The rest of the data will be split in half to create the validation and testing data."
   ]
  },
  {
   "cell_type": "code",
   "execution_count": 29,
   "metadata": {},
   "outputs": [
    {
     "name": "stdout",
     "output_type": "stream",
     "text": [
      "\t\t\tFeature Shapes:\n",
      "Train set: \t\t(20000, 200) \n",
      "Validation set: \t(2500, 200) \n",
      "Test set: \t\t(2500, 200)\n"
     ]
    }
   ],
   "source": [
    "split_frac = 0.8\n",
    "split_idx = int(len(features) * 0.8)\n",
    "train_x, val_x = features[:split_idx], features[split_idx:]\n",
    "train_y, val_y = labels[:split_idx], labels[split_idx:]\n",
    "test_idx = int(len(val_x) * 0.5)\n",
    "val_x, test_x = val_x[:test_idx], val_x[test_idx:]\n",
    "val_y, test_y = val_y[:test_idx], val_y[test_idx:]\n",
    "\n",
    "print(\"\\t\\t\\tFeature Shapes:\")\n",
    "print(\"Train set: \\t\\t{}\".format(train_x.shape), \n",
    "      \"\\nValidation set: \\t{}\".format(val_x.shape),\n",
    "      \"\\nTest set: \\t\\t{}\".format(test_x.shape))"
   ]
  },
  {
   "cell_type": "markdown",
   "metadata": {},
   "source": [
    "With train, validation, and text fractions of 0.8, 0.1, 0.1, the final shapes should look like:\n",
    "```\n",
    "                    Feature Shapes:\n",
    "Train set: \t\t (20000, 200) \n",
    "Validation set: \t(2500, 200) \n",
    "Test set: \t\t  (2500, 200)\n",
    "```"
   ]
  },
  {
   "cell_type": "markdown",
   "metadata": {},
   "source": [
    "## Build the graph\n",
    "\n",
    "Here, we'll build the graph. First up, defining the hyperparameters.\n",
    "\n",
    "* `lstm_size`: Number of units in the hidden layers in the LSTM cells. Usually larger is better performance wise. Common values are 128, 256, 512, etc.\n",
    "* `lstm_layers`: Number of LSTM layers in the network. I'd start with 1, then add more if I'm underfitting.\n",
    "* `batch_size`: The number of reviews to feed the network in one training pass. Typically this should be set as high as you can go without running out of memory.\n",
    "* `learning_rate`: Learning rate"
   ]
  },
  {
   "cell_type": "code",
   "execution_count": 47,
   "metadata": {
    "collapsed": true
   },
   "outputs": [],
   "source": [
    "lstm_size = 256\n",
    "lstm_layers = 1\n",
    "batch_size = 128\n",
    "learning_rate = 0.001"
   ]
  },
  {
   "cell_type": "markdown",
   "metadata": {},
   "source": [
    "For the network itself, we'll be passing in our 200 element long review vectors. Each batch will be `batch_size` vectors. We'll also be using dropout on the LSTM layer, so we'll make a placeholder for the keep probability."
   ]
  },
  {
   "cell_type": "markdown",
   "metadata": {},
   "source": [
    "> **Exercise:** Create the `inputs_`, `labels_`, and drop out `keep_prob` placeholders using `tf.placeholder`. `labels_` needs to be two-dimensional to work with some functions later.  Since `keep_prob` is a scalar (a 0-dimensional tensor), you shouldn't provide a size to `tf.placeholder`."
   ]
  },
  {
   "cell_type": "code",
   "execution_count": 52,
   "metadata": {
    "collapsed": true
   },
   "outputs": [],
   "source": [
    "n_words = len(vocab_to_int) + 1 # Adding 1 because we use 0's for padding, dictionary started at 1\n",
    "\n",
    "# Create the graph object\n",
    "graph = tf.Graph()\n",
    "# Add nodes to the graph\n",
    "with graph.as_default():\n",
    "    inputs_ = tf.placeholder(tf.int32, [None, None], name='inputs')\n",
    "    labels_ = tf.placeholder(tf.int32, [None, None], name='labels')\n",
    "    keep_prob = tf.placeholder(tf.float32, name='keep_prob')"
   ]
  },
  {
   "cell_type": "markdown",
   "metadata": {},
   "source": [
    "### Embedding\n",
    "\n",
    "Now we'll add an embedding layer. We need to do this because there are 74000 words in our vocabulary. It is massively inefficient to one-hot encode our classes here. You should remember dealing with this problem from the word2vec lesson. Instead of one-hot encoding, we can have an embedding layer and use that layer as a lookup table. You could train an embedding layer using word2vec, then load it here. But, it's fine to just make a new layer and let the network learn the weights.\n",
    "\n",
    "> **Exercise:** Create the embedding lookup matrix as a `tf.Variable`. Use that embedding matrix to get the embedded vectors to pass to the LSTM cell with [`tf.nn.embedding_lookup`](https://www.tensorflow.org/api_docs/python/tf/nn/embedding_lookup). This function takes the embedding matrix and an input tensor, such as the review vectors. Then, it'll return another tensor with the embedded vectors. So, if the embedding layer has 200 units, the function will return a tensor with size [batch_size, 200].\n",
    "\n"
   ]
  },
  {
   "cell_type": "code",
   "execution_count": 53,
   "metadata": {
    "collapsed": true
   },
   "outputs": [],
   "source": [
    "# Size of the embedding vectors (number of units in the embedding layer)\n",
    "embed_size = 300 \n",
    "\n",
    "with graph.as_default():\n",
    "    embedding = tf.Variable(tf.random_uniform((n_words, embed_size), -1, 1))\n",
    "    embed = tf.nn.embedding_lookup(embedding, inputs_)"
   ]
  },
  {
   "cell_type": "markdown",
   "metadata": {},
   "source": [
    "### LSTM cell\n",
    "\n",
    "<img src=\"assets/network_diagram.png\" width=400px>\n",
    "\n",
    "Next, we'll create our LSTM cells to use in the recurrent network ([TensorFlow documentation](https://www.tensorflow.org/api_docs/python/tf/contrib/rnn)). Here we are just defining what the cells look like. This isn't actually building the graph, just defining the type of cells we want in our graph.\n",
    "\n",
    "To create a basic LSTM cell for the graph, you'll want to use `tf.contrib.rnn.BasicLSTMCell`. Looking at the function documentation:\n",
    "\n",
    "```\n",
    "tf.contrib.rnn.BasicLSTMCell(num_units, forget_bias=1.0, input_size=None, state_is_tuple=True, activation=<function tanh at 0x109f1ef28>)\n",
    "```\n",
    "\n",
    "you can see it takes a parameter called `num_units`, the number of units in the cell, called `lstm_size` in this code. So then, you can write something like \n",
    "\n",
    "```\n",
    "lstm = tf.contrib.rnn.BasicLSTMCell(num_units)\n",
    "```\n",
    "\n",
    "to create an LSTM cell with `num_units`. Next, you can add dropout to the cell with `tf.contrib.rnn.DropoutWrapper`. This just wraps the cell in another cell, but with dropout added to the inputs and/or outputs. It's a really convenient way to make your network better with almost no effort! So you'd do something like\n",
    "\n",
    "```\n",
    "drop = tf.contrib.rnn.DropoutWrapper(cell, output_keep_prob=keep_prob)\n",
    "```\n",
    "\n",
    "Most of the time, your network will have better performance with more layers. That's sort of the magic of deep learning, adding more layers allows the network to learn really complex relationships. Again, there is a simple way to create multiple layers of LSTM cells with `tf.contrib.rnn.MultiRNNCell`:\n",
    "\n",
    "```\n",
    "cell = tf.contrib.rnn.MultiRNNCell([drop] * lstm_layers)\n",
    "```\n",
    "\n",
    "Here, `[drop] * lstm_layers` creates a list of cells (`drop`) that is `lstm_layers` long. The `MultiRNNCell` wrapper builds this into multiple layers of RNN cells, one for each cell in the list.\n",
    "\n",
    "So the final cell you're using in the network is actually multiple (or just one) LSTM cells with dropout. But it all works the same from an achitectural viewpoint, just a more complicated graph in the cell.\n",
    "\n",
    "> **Exercise:** Below, use `tf.contrib.rnn.BasicLSTMCell` to create an LSTM cell. Then, add drop out to it with `tf.contrib.rnn.DropoutWrapper`. Finally, create multiple LSTM layers with `tf.contrib.rnn.MultiRNNCell`.\n",
    "\n",
    "Here is [a tutorial on building RNNs](https://www.tensorflow.org/tutorials/recurrent) that will help you out.\n"
   ]
  },
  {
   "cell_type": "code",
   "execution_count": 54,
   "metadata": {
    "collapsed": true
   },
   "outputs": [],
   "source": [
    "with graph.as_default():\n",
    "    # Your basic LSTM cell\n",
    "    lstm = tf.nn.rnn_cell.BasicLSTMCell(lstm_size)\n",
    "    \n",
    "    # Add dropout to the cell\n",
    "    drop = tf.nn.rnn_cell.DropoutWrapper(lstm, output_keep_prob=keep_prob)\n",
    "    \n",
    "    # Stack up multiple LSTM layers, for deep learning\n",
    "    cell = tf.nn.rnn_cell.MultiRNNCell([drop] * lstm_layers)\n",
    "    \n",
    "    # Getting an initial state of all zeros\n",
    "    initial_state = cell.zero_state(batch_size, tf.float32)"
   ]
  },
  {
   "cell_type": "markdown",
   "metadata": {},
   "source": [
    "### RNN forward pass\n",
    "\n",
    "<img src=\"assets/network_diagram.png\" width=400px>\n",
    "\n",
    "Now we need to actually run the data through the RNN nodes. You can use [`tf.nn.dynamic_rnn`](https://www.tensorflow.org/api_docs/python/tf/nn/dynamic_rnn) to do this. You'd pass in the RNN cell you created (our multiple layered LSTM `cell` for instance), and the inputs to the network.\n",
    "\n",
    "```\n",
    "outputs, final_state = tf.nn.dynamic_rnn(cell, inputs, initial_state=initial_state)\n",
    "```\n",
    "\n",
    "Above I created an initial state, `initial_state`, to pass to the RNN. This is the cell state that is passed between the hidden layers in successive time steps. `tf.nn.dynamic_rnn` takes care of most of the work for us. We pass in our cell and the input to the cell, then it does the unrolling and everything else for us. It returns outputs for each time step and the final_state of the hidden layer.\n",
    "\n",
    "> **Exercise:** Use `tf.nn.dynamic_rnn` to add the forward pass through the RNN. Remember that we're actually passing in vectors from the embedding layer, `embed`.\n",
    "\n"
   ]
  },
  {
   "cell_type": "code",
   "execution_count": 55,
   "metadata": {},
   "outputs": [],
   "source": [
    "with graph.as_default():\n",
    "    outputs, final_state = tf.nn.dynamic_rnn(cell, embed, initial_state=initial_state)"
   ]
  },
  {
   "cell_type": "markdown",
   "metadata": {},
   "source": [
    "### Output\n",
    "\n",
    "We only care about the final output, we'll be using that as our sentiment prediction. So we need to grab the last output with `outputs[:, -1]`, the calculate the cost from that and `labels_`."
   ]
  },
  {
   "cell_type": "code",
   "execution_count": 56,
   "metadata": {},
   "outputs": [],
   "source": [
    "with graph.as_default():\n",
    "    predictions = tf.contrib.layers.fully_connected(outputs[:, -1], 1, activation_fn=tf.sigmoid)\n",
    "    cost = tf.losses.mean_squared_error(labels_, predictions)\n",
    "    \n",
    "    optimizer = tf.train.AdamOptimizer(learning_rate).minimize(cost)"
   ]
  },
  {
   "cell_type": "markdown",
   "metadata": {},
   "source": [
    "### Validation accuracy\n",
    "\n",
    "Here we can add a few nodes to calculate the accuracy which we'll use in the validation pass."
   ]
  },
  {
   "cell_type": "code",
   "execution_count": 57,
   "metadata": {
    "collapsed": true
   },
   "outputs": [],
   "source": [
    "with graph.as_default():\n",
    "    correct_pred = tf.equal(tf.cast(tf.round(predictions), tf.int32), labels_)\n",
    "    accuracy = tf.reduce_mean(tf.cast(correct_pred, tf.float32))"
   ]
  },
  {
   "cell_type": "markdown",
   "metadata": {},
   "source": [
    "### Batching\n",
    "\n",
    "This is a simple function for returning batches from our data. First it removes data such that we only have full batches. Then it iterates through the `x` and `y` arrays and returns slices out of those arrays with size `[batch_size]`."
   ]
  },
  {
   "cell_type": "code",
   "execution_count": 58,
   "metadata": {
    "collapsed": true
   },
   "outputs": [],
   "source": [
    "def get_batches(x, y, batch_size=100):\n",
    "    \n",
    "    n_batches = len(x)//batch_size\n",
    "    x, y = x[:n_batches*batch_size], y[:n_batches*batch_size]\n",
    "    for ii in range(0, len(x), batch_size):\n",
    "        yield x[ii:ii+batch_size], y[ii:ii+batch_size]"
   ]
  },
  {
   "cell_type": "markdown",
   "metadata": {},
   "source": [
    "## Training\n",
    "\n",
    "Below is the typical training code. If you want to do this yourself, feel free to delete all this code and implement it yourself. Before you run this, make sure the `checkpoints` directory exists."
   ]
  },
  {
   "cell_type": "code",
   "execution_count": 59,
   "metadata": {},
   "outputs": [
    {
     "name": "stdout",
     "output_type": "stream",
     "text": [
      "Epoch: 0/10 Iteration: 5 Train loss: 0.237\n",
      "Epoch: 0/10 Iteration: 10 Train loss: 0.243\n",
      "Epoch: 0/10 Iteration: 15 Train loss: 0.243\n",
      "Epoch: 0/10 Iteration: 20 Train loss: 0.226\n",
      "Epoch: 0/10 Iteration: 25 Train loss: 0.252\n",
      "Val acc: 0.634\n",
      "Epoch: 0/10 Iteration: 30 Train loss: 0.248\n",
      "Epoch: 0/10 Iteration: 35 Train loss: 0.235\n",
      "Epoch: 0/10 Iteration: 40 Train loss: 0.227\n",
      "Epoch: 0/10 Iteration: 45 Train loss: 0.237\n",
      "Epoch: 0/10 Iteration: 50 Train loss: 0.237\n",
      "Val acc: 0.671\n",
      "Epoch: 0/10 Iteration: 55 Train loss: 0.202\n",
      "Epoch: 0/10 Iteration: 60 Train loss: 0.202\n",
      "Epoch: 0/10 Iteration: 65 Train loss: 0.241\n",
      "Epoch: 0/10 Iteration: 70 Train loss: 0.221\n",
      "Epoch: 0/10 Iteration: 75 Train loss: 0.221\n",
      "Val acc: 0.622\n",
      "Epoch: 0/10 Iteration: 80 Train loss: 0.246\n",
      "Epoch: 0/10 Iteration: 85 Train loss: 0.232\n",
      "Epoch: 0/10 Iteration: 90 Train loss: 0.213\n",
      "Epoch: 0/10 Iteration: 95 Train loss: 0.216\n",
      "Epoch: 0/10 Iteration: 100 Train loss: 0.179\n",
      "Val acc: 0.674\n",
      "Epoch: 0/10 Iteration: 105 Train loss: 0.242\n",
      "Epoch: 0/10 Iteration: 110 Train loss: 0.207\n",
      "Epoch: 0/10 Iteration: 115 Train loss: 0.237\n",
      "Epoch: 0/10 Iteration: 120 Train loss: 0.233\n",
      "Epoch: 0/10 Iteration: 125 Train loss: 0.221\n",
      "Val acc: 0.727\n",
      "Epoch: 0/10 Iteration: 130 Train loss: 0.183\n",
      "Epoch: 0/10 Iteration: 135 Train loss: 0.192\n",
      "Epoch: 0/10 Iteration: 140 Train loss: 0.204\n",
      "Epoch: 0/10 Iteration: 145 Train loss: 0.209\n",
      "Epoch: 0/10 Iteration: 150 Train loss: 0.210\n",
      "Val acc: 0.661\n",
      "Epoch: 0/10 Iteration: 155 Train loss: 0.208\n",
      "Epoch: 1/10 Iteration: 160 Train loss: 0.181\n",
      "Epoch: 1/10 Iteration: 165 Train loss: 0.222\n",
      "Epoch: 1/10 Iteration: 170 Train loss: 0.241\n",
      "Epoch: 1/10 Iteration: 175 Train loss: 0.214\n",
      "Val acc: 0.596\n",
      "Epoch: 1/10 Iteration: 180 Train loss: 0.212\n",
      "Epoch: 1/10 Iteration: 185 Train loss: 0.203\n",
      "Epoch: 1/10 Iteration: 190 Train loss: 0.198\n",
      "Epoch: 1/10 Iteration: 195 Train loss: 0.233\n",
      "Epoch: 1/10 Iteration: 200 Train loss: 0.214\n",
      "Val acc: 0.682\n",
      "Epoch: 1/10 Iteration: 205 Train loss: 0.154\n",
      "Epoch: 1/10 Iteration: 210 Train loss: 0.129\n",
      "Epoch: 1/10 Iteration: 215 Train loss: 0.229\n",
      "Epoch: 1/10 Iteration: 220 Train loss: 0.237\n",
      "Epoch: 1/10 Iteration: 225 Train loss: 0.153\n",
      "Val acc: 0.745\n",
      "Epoch: 1/10 Iteration: 230 Train loss: 0.231\n",
      "Epoch: 1/10 Iteration: 235 Train loss: 0.190\n",
      "Epoch: 1/10 Iteration: 240 Train loss: 0.180\n",
      "Epoch: 1/10 Iteration: 245 Train loss: 0.215\n",
      "Epoch: 1/10 Iteration: 250 Train loss: 0.217\n",
      "Val acc: 0.591\n",
      "Epoch: 1/10 Iteration: 255 Train loss: 0.209\n",
      "Epoch: 1/10 Iteration: 260 Train loss: 0.203\n",
      "Epoch: 1/10 Iteration: 265 Train loss: 0.198\n",
      "Epoch: 1/10 Iteration: 270 Train loss: 0.196\n",
      "Epoch: 1/10 Iteration: 275 Train loss: 0.213\n",
      "Val acc: 0.633\n",
      "Epoch: 1/10 Iteration: 280 Train loss: 0.208\n",
      "Epoch: 1/10 Iteration: 285 Train loss: 0.215\n",
      "Epoch: 1/10 Iteration: 290 Train loss: 0.162\n",
      "Epoch: 1/10 Iteration: 295 Train loss: 0.204\n",
      "Epoch: 1/10 Iteration: 300 Train loss: 0.170\n",
      "Val acc: 0.748\n",
      "Epoch: 1/10 Iteration: 305 Train loss: 0.143\n",
      "Epoch: 1/10 Iteration: 310 Train loss: 0.321\n",
      "Epoch: 2/10 Iteration: 315 Train loss: 0.202\n",
      "Epoch: 2/10 Iteration: 320 Train loss: 0.175\n",
      "Epoch: 2/10 Iteration: 325 Train loss: 0.186\n",
      "Val acc: 0.634\n",
      "Epoch: 2/10 Iteration: 330 Train loss: 0.170\n",
      "Epoch: 2/10 Iteration: 335 Train loss: 0.192\n",
      "Epoch: 2/10 Iteration: 340 Train loss: 0.193\n",
      "Epoch: 2/10 Iteration: 345 Train loss: 0.180\n",
      "Epoch: 2/10 Iteration: 350 Train loss: 0.179\n",
      "Val acc: 0.695\n",
      "Epoch: 2/10 Iteration: 355 Train loss: 0.188\n",
      "Epoch: 2/10 Iteration: 360 Train loss: 0.130\n",
      "Epoch: 2/10 Iteration: 365 Train loss: 0.183\n",
      "Epoch: 2/10 Iteration: 370 Train loss: 0.143\n",
      "Epoch: 2/10 Iteration: 375 Train loss: 0.232\n",
      "Val acc: 0.674\n",
      "Epoch: 2/10 Iteration: 380 Train loss: 0.236\n",
      "Epoch: 2/10 Iteration: 385 Train loss: 0.164\n",
      "Epoch: 2/10 Iteration: 390 Train loss: 0.199\n",
      "Epoch: 2/10 Iteration: 395 Train loss: 0.181\n",
      "Epoch: 2/10 Iteration: 400 Train loss: 0.206\n",
      "Val acc: 0.676\n",
      "Epoch: 2/10 Iteration: 405 Train loss: 0.196\n",
      "Epoch: 2/10 Iteration: 410 Train loss: 0.122\n",
      "Epoch: 2/10 Iteration: 415 Train loss: 0.129\n",
      "Epoch: 2/10 Iteration: 420 Train loss: 0.154\n",
      "Epoch: 2/10 Iteration: 425 Train loss: 0.198\n",
      "Val acc: 0.735\n",
      "Epoch: 2/10 Iteration: 430 Train loss: 0.182\n",
      "Epoch: 2/10 Iteration: 435 Train loss: 0.116\n",
      "Epoch: 2/10 Iteration: 440 Train loss: 0.178\n",
      "Epoch: 2/10 Iteration: 445 Train loss: 0.214\n",
      "Epoch: 2/10 Iteration: 450 Train loss: 0.178\n",
      "Val acc: 0.691\n",
      "Epoch: 2/10 Iteration: 455 Train loss: 0.140\n",
      "Epoch: 2/10 Iteration: 460 Train loss: 0.152\n",
      "Epoch: 2/10 Iteration: 465 Train loss: 0.134\n",
      "Epoch: 3/10 Iteration: 470 Train loss: 0.106\n",
      "Epoch: 3/10 Iteration: 475 Train loss: 0.145\n",
      "Val acc: 0.736\n",
      "Epoch: 3/10 Iteration: 480 Train loss: 0.176\n",
      "Epoch: 3/10 Iteration: 485 Train loss: 0.087\n",
      "Epoch: 3/10 Iteration: 490 Train loss: 0.123\n",
      "Epoch: 3/10 Iteration: 495 Train loss: 0.249\n",
      "Epoch: 3/10 Iteration: 500 Train loss: 0.146\n",
      "Val acc: 0.728\n",
      "Epoch: 3/10 Iteration: 505 Train loss: 0.148\n",
      "Epoch: 3/10 Iteration: 510 Train loss: 0.119\n",
      "Epoch: 3/10 Iteration: 515 Train loss: 0.170\n",
      "Epoch: 3/10 Iteration: 520 Train loss: 0.135\n",
      "Epoch: 3/10 Iteration: 525 Train loss: 0.156\n",
      "Val acc: 0.757\n",
      "Epoch: 3/10 Iteration: 530 Train loss: 0.128\n",
      "Epoch: 3/10 Iteration: 535 Train loss: 0.196\n",
      "Epoch: 3/10 Iteration: 540 Train loss: 0.098\n",
      "Epoch: 3/10 Iteration: 545 Train loss: 0.133\n",
      "Epoch: 3/10 Iteration: 550 Train loss: 0.138\n",
      "Val acc: 0.762\n",
      "Epoch: 3/10 Iteration: 555 Train loss: 0.115\n",
      "Epoch: 3/10 Iteration: 560 Train loss: 0.124\n",
      "Epoch: 3/10 Iteration: 565 Train loss: 0.103\n",
      "Epoch: 3/10 Iteration: 570 Train loss: 0.330\n",
      "Epoch: 3/10 Iteration: 575 Train loss: 0.440\n",
      "Val acc: 0.522\n",
      "Epoch: 3/10 Iteration: 580 Train loss: 0.440\n",
      "Epoch: 3/10 Iteration: 585 Train loss: 0.257\n",
      "Epoch: 3/10 Iteration: 590 Train loss: 0.303\n",
      "Epoch: 3/10 Iteration: 595 Train loss: 0.274\n",
      "Epoch: 3/10 Iteration: 600 Train loss: 0.255\n",
      "Val acc: 0.571\n",
      "Epoch: 3/10 Iteration: 605 Train loss: 0.251\n",
      "Epoch: 3/10 Iteration: 610 Train loss: 0.226\n",
      "Epoch: 3/10 Iteration: 615 Train loss: 0.208\n",
      "Epoch: 3/10 Iteration: 620 Train loss: 0.229\n",
      "Epoch: 4/10 Iteration: 625 Train loss: 0.159\n",
      "Val acc: 0.673\n",
      "Epoch: 4/10 Iteration: 630 Train loss: 0.265\n",
      "Epoch: 4/10 Iteration: 635 Train loss: 0.212\n",
      "Epoch: 4/10 Iteration: 640 Train loss: 0.211\n",
      "Epoch: 4/10 Iteration: 645 Train loss: 0.162\n",
      "Epoch: 4/10 Iteration: 650 Train loss: 0.160\n",
      "Val acc: 0.691\n",
      "Epoch: 4/10 Iteration: 655 Train loss: 0.174\n",
      "Epoch: 4/10 Iteration: 660 Train loss: 0.150\n",
      "Epoch: 4/10 Iteration: 665 Train loss: 0.125\n",
      "Epoch: 4/10 Iteration: 670 Train loss: 0.161\n",
      "Epoch: 4/10 Iteration: 675 Train loss: 0.094\n",
      "Val acc: 0.778\n",
      "Epoch: 4/10 Iteration: 680 Train loss: 0.100\n",
      "Epoch: 4/10 Iteration: 685 Train loss: 0.165\n",
      "Epoch: 4/10 Iteration: 690 Train loss: 0.160\n",
      "Epoch: 4/10 Iteration: 695 Train loss: 0.136\n",
      "Epoch: 4/10 Iteration: 700 Train loss: 0.135\n",
      "Val acc: 0.710\n",
      "Epoch: 4/10 Iteration: 705 Train loss: 0.164\n",
      "Epoch: 4/10 Iteration: 710 Train loss: 0.132\n",
      "Epoch: 4/10 Iteration: 715 Train loss: 0.149\n",
      "Epoch: 4/10 Iteration: 720 Train loss: 0.133\n",
      "Epoch: 4/10 Iteration: 725 Train loss: 0.118\n",
      "Val acc: 0.787\n",
      "Epoch: 4/10 Iteration: 730 Train loss: 0.127\n",
      "Epoch: 4/10 Iteration: 735 Train loss: 0.175\n",
      "Epoch: 4/10 Iteration: 740 Train loss: 0.118\n",
      "Epoch: 4/10 Iteration: 745 Train loss: 0.142\n",
      "Epoch: 4/10 Iteration: 750 Train loss: 0.173\n",
      "Val acc: 0.757\n",
      "Epoch: 4/10 Iteration: 755 Train loss: 0.119\n",
      "Epoch: 4/10 Iteration: 760 Train loss: 0.168\n",
      "Epoch: 4/10 Iteration: 765 Train loss: 0.115\n",
      "Epoch: 4/10 Iteration: 770 Train loss: 0.108\n",
      "Epoch: 4/10 Iteration: 775 Train loss: 0.127\n",
      "Val acc: 0.764\n",
      "Epoch: 4/10 Iteration: 780 Train loss: 0.083\n",
      "Epoch: 5/10 Iteration: 785 Train loss: 0.101\n",
      "Epoch: 5/10 Iteration: 790 Train loss: 0.127\n",
      "Epoch: 5/10 Iteration: 795 Train loss: 0.115\n",
      "Epoch: 5/10 Iteration: 800 Train loss: 0.079\n",
      "Val acc: 0.760\n",
      "Epoch: 5/10 Iteration: 805 Train loss: 0.131\n",
      "Epoch: 5/10 Iteration: 810 Train loss: 0.129\n",
      "Epoch: 5/10 Iteration: 815 Train loss: 0.142\n",
      "Epoch: 5/10 Iteration: 820 Train loss: 0.082\n",
      "Epoch: 5/10 Iteration: 825 Train loss: 0.130\n",
      "Val acc: 0.734\n",
      "Epoch: 5/10 Iteration: 830 Train loss: 0.145\n",
      "Epoch: 5/10 Iteration: 835 Train loss: 0.052\n",
      "Epoch: 5/10 Iteration: 840 Train loss: 0.069\n",
      "Epoch: 5/10 Iteration: 845 Train loss: 0.147\n",
      "Epoch: 5/10 Iteration: 850 Train loss: 0.101\n",
      "Val acc: 0.773\n",
      "Epoch: 5/10 Iteration: 855 Train loss: 0.080\n",
      "Epoch: 5/10 Iteration: 860 Train loss: 0.096\n"
     ]
    },
    {
     "name": "stdout",
     "output_type": "stream",
     "text": [
      "Epoch: 5/10 Iteration: 865 Train loss: 0.118\n",
      "Epoch: 5/10 Iteration: 870 Train loss: 0.122\n",
      "Epoch: 5/10 Iteration: 875 Train loss: 0.113\n",
      "Val acc: 0.708\n",
      "Epoch: 5/10 Iteration: 880 Train loss: 0.114\n",
      "Epoch: 5/10 Iteration: 885 Train loss: 0.132\n",
      "Epoch: 5/10 Iteration: 890 Train loss: 0.134\n",
      "Epoch: 5/10 Iteration: 895 Train loss: 0.121\n",
      "Epoch: 5/10 Iteration: 900 Train loss: 0.105\n",
      "Val acc: 0.801\n",
      "Epoch: 5/10 Iteration: 905 Train loss: 0.126\n",
      "Epoch: 5/10 Iteration: 910 Train loss: 0.061\n",
      "Epoch: 5/10 Iteration: 915 Train loss: 0.063\n",
      "Epoch: 5/10 Iteration: 920 Train loss: 0.085\n",
      "Epoch: 5/10 Iteration: 925 Train loss: 0.062\n",
      "Val acc: 0.823\n",
      "Epoch: 5/10 Iteration: 930 Train loss: 0.088\n",
      "Epoch: 5/10 Iteration: 935 Train loss: 0.089\n",
      "Epoch: 6/10 Iteration: 940 Train loss: 0.063\n",
      "Epoch: 6/10 Iteration: 945 Train loss: 0.053\n",
      "Epoch: 6/10 Iteration: 950 Train loss: 0.082\n",
      "Val acc: 0.812\n",
      "Epoch: 6/10 Iteration: 955 Train loss: 0.078\n",
      "Epoch: 6/10 Iteration: 960 Train loss: 0.058\n",
      "Epoch: 6/10 Iteration: 965 Train loss: 0.092\n",
      "Epoch: 6/10 Iteration: 970 Train loss: 0.052\n",
      "Epoch: 6/10 Iteration: 975 Train loss: 0.079\n",
      "Val acc: 0.806\n",
      "Epoch: 6/10 Iteration: 980 Train loss: 0.087\n",
      "Epoch: 6/10 Iteration: 985 Train loss: 0.061\n",
      "Epoch: 6/10 Iteration: 990 Train loss: 0.047\n",
      "Epoch: 6/10 Iteration: 995 Train loss: 0.073\n",
      "Epoch: 6/10 Iteration: 1000 Train loss: 0.082\n",
      "Val acc: 0.827\n",
      "Epoch: 6/10 Iteration: 1005 Train loss: 0.066\n",
      "Epoch: 6/10 Iteration: 1010 Train loss: 0.079\n",
      "Epoch: 6/10 Iteration: 1015 Train loss: 0.083\n",
      "Epoch: 6/10 Iteration: 1020 Train loss: 0.051\n",
      "Epoch: 6/10 Iteration: 1025 Train loss: 0.138\n",
      "Val acc: 0.572\n",
      "Epoch: 6/10 Iteration: 1030 Train loss: 0.247\n",
      "Epoch: 6/10 Iteration: 1035 Train loss: 0.150\n",
      "Epoch: 6/10 Iteration: 1040 Train loss: 0.191\n",
      "Epoch: 6/10 Iteration: 1045 Train loss: 0.145\n",
      "Epoch: 6/10 Iteration: 1050 Train loss: 0.147\n",
      "Val acc: 0.642\n",
      "Epoch: 6/10 Iteration: 1055 Train loss: 0.163\n",
      "Epoch: 6/10 Iteration: 1060 Train loss: 0.147\n",
      "Epoch: 6/10 Iteration: 1065 Train loss: 0.141\n",
      "Epoch: 6/10 Iteration: 1070 Train loss: 0.063\n",
      "Epoch: 6/10 Iteration: 1075 Train loss: 0.109\n",
      "Val acc: 0.743\n",
      "Epoch: 6/10 Iteration: 1080 Train loss: 0.078\n",
      "Epoch: 6/10 Iteration: 1085 Train loss: 0.083\n",
      "Epoch: 6/10 Iteration: 1090 Train loss: 0.092\n",
      "Epoch: 7/10 Iteration: 1095 Train loss: 0.211\n",
      "Epoch: 7/10 Iteration: 1100 Train loss: 0.072\n",
      "Val acc: 0.668\n",
      "Epoch: 7/10 Iteration: 1105 Train loss: 0.141\n",
      "Epoch: 7/10 Iteration: 1110 Train loss: 0.087\n",
      "Epoch: 7/10 Iteration: 1115 Train loss: 0.087\n",
      "Epoch: 7/10 Iteration: 1120 Train loss: 0.100\n",
      "Epoch: 7/10 Iteration: 1125 Train loss: 0.117\n",
      "Val acc: 0.734\n",
      "Epoch: 7/10 Iteration: 1130 Train loss: 0.070\n",
      "Epoch: 7/10 Iteration: 1135 Train loss: 0.097\n",
      "Epoch: 7/10 Iteration: 1140 Train loss: 0.029\n",
      "Epoch: 7/10 Iteration: 1145 Train loss: 0.062\n",
      "Epoch: 7/10 Iteration: 1150 Train loss: 0.067\n",
      "Val acc: 0.824\n",
      "Epoch: 7/10 Iteration: 1155 Train loss: 0.060\n",
      "Epoch: 7/10 Iteration: 1160 Train loss: 0.140\n",
      "Epoch: 7/10 Iteration: 1165 Train loss: 0.082\n",
      "Epoch: 7/10 Iteration: 1170 Train loss: 0.148\n",
      "Epoch: 7/10 Iteration: 1175 Train loss: 0.098\n",
      "Val acc: 0.762\n",
      "Epoch: 7/10 Iteration: 1180 Train loss: 0.092\n",
      "Epoch: 7/10 Iteration: 1185 Train loss: 0.106\n",
      "Epoch: 7/10 Iteration: 1190 Train loss: 0.046\n",
      "Epoch: 7/10 Iteration: 1195 Train loss: 0.064\n",
      "Epoch: 7/10 Iteration: 1200 Train loss: 0.085\n",
      "Val acc: 0.812\n",
      "Epoch: 7/10 Iteration: 1205 Train loss: 0.088\n",
      "Epoch: 7/10 Iteration: 1210 Train loss: 0.077\n",
      "Epoch: 7/10 Iteration: 1215 Train loss: 0.068\n",
      "Epoch: 7/10 Iteration: 1220 Train loss: 0.120\n",
      "Epoch: 7/10 Iteration: 1225 Train loss: 0.134\n",
      "Val acc: 0.767\n",
      "Epoch: 7/10 Iteration: 1230 Train loss: 0.076\n",
      "Epoch: 7/10 Iteration: 1235 Train loss: 0.089\n",
      "Epoch: 7/10 Iteration: 1240 Train loss: 0.079\n",
      "Epoch: 7/10 Iteration: 1245 Train loss: 0.054\n",
      "Epoch: 8/10 Iteration: 1250 Train loss: 0.056\n",
      "Val acc: 0.822\n",
      "Epoch: 8/10 Iteration: 1255 Train loss: 0.077\n",
      "Epoch: 8/10 Iteration: 1260 Train loss: 0.043\n",
      "Epoch: 8/10 Iteration: 1265 Train loss: 0.032\n",
      "Epoch: 8/10 Iteration: 1270 Train loss: 0.018\n",
      "Epoch: 8/10 Iteration: 1275 Train loss: 0.030\n",
      "Val acc: 0.831\n",
      "Epoch: 8/10 Iteration: 1280 Train loss: 0.066\n",
      "Epoch: 8/10 Iteration: 1285 Train loss: 0.028\n",
      "Epoch: 8/10 Iteration: 1290 Train loss: 0.005\n",
      "Epoch: 8/10 Iteration: 1295 Train loss: 0.022\n",
      "Epoch: 8/10 Iteration: 1300 Train loss: 0.007\n",
      "Val acc: 0.913\n",
      "Epoch: 8/10 Iteration: 1305 Train loss: 0.002\n",
      "Epoch: 8/10 Iteration: 1310 Train loss: 0.001\n",
      "Epoch: 8/10 Iteration: 1315 Train loss: 0.002\n",
      "Epoch: 8/10 Iteration: 1320 Train loss: 0.001\n",
      "Epoch: 8/10 Iteration: 1325 Train loss: 0.002\n",
      "Val acc: 0.822\n",
      "Epoch: 8/10 Iteration: 1330 Train loss: 0.002\n",
      "Epoch: 8/10 Iteration: 1335 Train loss: 0.001\n",
      "Epoch: 8/10 Iteration: 1340 Train loss: 0.008\n",
      "Epoch: 8/10 Iteration: 1345 Train loss: 0.001\n",
      "Epoch: 8/10 Iteration: 1350 Train loss: 0.000\n",
      "Val acc: 0.826\n",
      "Epoch: 8/10 Iteration: 1355 Train loss: 0.000\n",
      "Epoch: 8/10 Iteration: 1360 Train loss: 0.008\n",
      "Epoch: 8/10 Iteration: 1365 Train loss: 0.009\n",
      "Epoch: 8/10 Iteration: 1370 Train loss: 0.023\n",
      "Epoch: 8/10 Iteration: 1375 Train loss: 0.001\n",
      "Val acc: 0.796\n",
      "Epoch: 8/10 Iteration: 1380 Train loss: 0.001\n",
      "Epoch: 8/10 Iteration: 1385 Train loss: 0.001\n",
      "Epoch: 8/10 Iteration: 1390 Train loss: 0.000\n",
      "Epoch: 8/10 Iteration: 1395 Train loss: 0.000\n",
      "Epoch: 8/10 Iteration: 1400 Train loss: 0.000\n",
      "Val acc: 0.734\n",
      "Epoch: 9/10 Iteration: 1405 Train loss: 0.180\n",
      "Epoch: 9/10 Iteration: 1410 Train loss: 0.141\n",
      "Epoch: 9/10 Iteration: 1415 Train loss: 0.103\n",
      "Epoch: 9/10 Iteration: 1420 Train loss: 0.097\n",
      "Epoch: 9/10 Iteration: 1425 Train loss: 0.011\n",
      "Val acc: 0.901\n",
      "Epoch: 9/10 Iteration: 1430 Train loss: 0.070\n",
      "Epoch: 9/10 Iteration: 1435 Train loss: 0.016\n",
      "Epoch: 9/10 Iteration: 1440 Train loss: 0.019\n",
      "Epoch: 9/10 Iteration: 1445 Train loss: 0.010\n",
      "Epoch: 9/10 Iteration: 1450 Train loss: 0.017\n",
      "Val acc: 0.867\n",
      "Epoch: 9/10 Iteration: 1455 Train loss: 0.017\n",
      "Epoch: 9/10 Iteration: 1460 Train loss: 0.012\n",
      "Epoch: 9/10 Iteration: 1465 Train loss: 0.006\n",
      "Epoch: 9/10 Iteration: 1470 Train loss: 0.011\n",
      "Epoch: 9/10 Iteration: 1475 Train loss: 0.008\n",
      "Val acc: 0.718\n",
      "Epoch: 9/10 Iteration: 1480 Train loss: 0.009\n",
      "Epoch: 9/10 Iteration: 1485 Train loss: 0.001\n",
      "Epoch: 9/10 Iteration: 1490 Train loss: 0.001\n",
      "Epoch: 9/10 Iteration: 1495 Train loss: 0.001\n",
      "Epoch: 9/10 Iteration: 1500 Train loss: 0.004\n",
      "Val acc: 0.907\n",
      "Epoch: 9/10 Iteration: 1505 Train loss: 0.002\n",
      "Epoch: 9/10 Iteration: 1510 Train loss: 0.002\n",
      "Epoch: 9/10 Iteration: 1515 Train loss: 0.002\n",
      "Epoch: 9/10 Iteration: 1520 Train loss: 0.000\n",
      "Epoch: 9/10 Iteration: 1525 Train loss: 0.000\n",
      "Val acc: 0.914\n",
      "Epoch: 9/10 Iteration: 1530 Train loss: 0.001\n",
      "Epoch: 9/10 Iteration: 1535 Train loss: 0.001\n",
      "Epoch: 9/10 Iteration: 1540 Train loss: 0.000\n",
      "Epoch: 9/10 Iteration: 1545 Train loss: 0.000\n",
      "Epoch: 9/10 Iteration: 1550 Train loss: 0.000\n",
      "Val acc: 0.890\n",
      "Epoch: 9/10 Iteration: 1555 Train loss: 0.000\n",
      "Epoch: 9/10 Iteration: 1560 Train loss: 0.000\n"
     ]
    }
   ],
   "source": [
    "epochs = 10\n",
    "\n",
    "with graph.as_default():\n",
    "    saver = tf.train.Saver()\n",
    "\n",
    "with tf.Session(graph=graph) as sess:\n",
    "    sess.run(tf.global_variables_initializer())\n",
    "    iteration = 1\n",
    "    for e in range(epochs):\n",
    "        state = sess.run(initial_state)\n",
    "        \n",
    "        for ii, (x, y) in enumerate(get_batches(train_x, train_y, batch_size), 1):\n",
    "            feed = {inputs_: x,\n",
    "                    labels_: y[:, None],\n",
    "                    keep_prob: 0.5,\n",
    "                    initial_state: state}\n",
    "            loss, state, _ = sess.run([cost, final_state, optimizer], feed_dict=feed)\n",
    "            \n",
    "            if iteration%5==0:\n",
    "                print(\"Epoch: {}/{}\".format(e, epochs),\n",
    "                      \"Iteration: {}\".format(iteration),\n",
    "                      \"Train loss: {:.3f}\".format(loss))\n",
    "\n",
    "            if iteration%25==0:\n",
    "                val_acc = []\n",
    "                val_state = sess.run(cell.zero_state(batch_size, tf.float32))\n",
    "                for x, y in get_batches(val_x, val_y, batch_size):\n",
    "                    feed = {inputs_: x,\n",
    "                            labels_: y[:, None],\n",
    "                            keep_prob: 1,\n",
    "                            initial_state: val_state}\n",
    "                    batch_acc, val_state = sess.run([accuracy, final_state], feed_dict=feed)\n",
    "                    val_acc.append(batch_acc)\n",
    "                print(\"Val acc: {:.3f}\".format(np.mean(val_acc)))\n",
    "            iteration +=1\n",
    "    saver.save(sess, \"checkpoints/sentiment.ckpt\")"
   ]
  },
  {
   "cell_type": "markdown",
   "metadata": {},
   "source": [
    "## Testing"
   ]
  },
  {
   "cell_type": "code",
   "execution_count": 60,
   "metadata": {},
   "outputs": [
    {
     "name": "stdout",
     "output_type": "stream",
     "text": [
      "INFO:tensorflow:Restoring parameters from checkpoints\\sentiment.ckpt\n",
      "Test accuracy: 0.830\n"
     ]
    }
   ],
   "source": [
    "test_acc = []\n",
    "with tf.Session(graph=graph) as sess:\n",
    "    saver.restore(sess, tf.train.latest_checkpoint('checkpoints'))\n",
    "    test_state = sess.run(cell.zero_state(batch_size, tf.float32))\n",
    "    for ii, (x, y) in enumerate(get_batches(test_x, test_y, batch_size), 1):\n",
    "        feed = {inputs_: x,\n",
    "                labels_: y[:, None],\n",
    "                keep_prob: 1,\n",
    "                initial_state: test_state}\n",
    "        batch_acc, test_state = sess.run([accuracy, final_state], feed_dict=feed)\n",
    "        test_acc.append(batch_acc)\n",
    "    print(\"Test accuracy: {:.3f}\".format(np.mean(test_acc)))"
   ]
  }
 ],
 "metadata": {
  "kernelspec": {
   "display_name": "Python 3",
   "language": "python",
   "name": "python3"
  },
  "language_info": {
   "codemirror_mode": {
    "name": "ipython",
    "version": 3
   },
   "file_extension": ".py",
   "mimetype": "text/x-python",
   "name": "python",
   "nbconvert_exporter": "python",
   "pygments_lexer": "ipython3",
   "version": "3.6.1"
  }
 },
 "nbformat": 4,
 "nbformat_minor": 2
}
